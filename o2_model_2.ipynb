{
 "metadata": {
  "name": "o2_model_2.ipynb"
 },
 "nbformat": 3,
 "nbformat_minor": 0,
 "worksheets": [
  {
   "cells": [
    {
     "cell_type": "heading",
     "level": 3,
     "metadata": {},
     "source": [
      "<h2>Pond Metabolism Model (work in progress</h2>\n",
      "<h3>Develop a irradiance forcing curve</h3>"
     ]
    },
    {
     "cell_type": "code",
     "collapsed": false,
     "input": [
      "# Mean and Coman (2013)\n",
      "# \"Corrected Simple Solar Irradiance Model for Mono-SI Photovoltaic Potential Estimation\"\n",
      "# 12th Intl. Conf. on Environment and Electrical Eng, Wroclaw\n",
      "d2r = pi/180.\n",
      "jday = linspace(330.,337.,8*96)\n",
      "lat = 47.\n",
      "phi = d2r*lat\n",
      "# Extraterrestrial irradiance\n",
      "Ic = 1367. # W/m2\n",
      "Io = Ic*(1+0.0334*cos((2.*pi*jday)/365.25))\n",
      "# Sun's declination varies from +/-23.45 deg\n",
      "# (this is not a complete as the Julian day model in Wikipedia)\n",
      "delta = 23.45*d2r*sin(2.*pi*((284+jday)/365))\n",
      "# Hour angle (zero at noon)\n",
      "hr = 24*(jday%1)\n",
      "omega = d2r*15.*(12.-hr)\n",
      "costhetaz = sin(delta)*sin(phi)+cos(delta)*cos(phi)*cos(omega)\n",
      "# empirical constants\n",
      "c = 0.357\n",
      "d = 0.678\n",
      "# Irradiance at zenith angle (to flat surface)\n",
      "Iz = Io*exp(-c*(1./costhetaz)**d)\n",
      "# Hour angle of sunrise / sunset (from Wikipedia, ignoring refraction and solar disc)\n",
      "cosomega0 = -tan(phi)*tan(delta)\n",
      "# Angle of a solar panel - not using this, but wanted to save the calcs\n",
      "gamma = 45.*d2r #azimuth of panel wrt south\n",
      "beta = 15.*d2r  #tilt of angle wrt to horizontal\n",
      "costheta = sin(delta)*sin(phi)*cos(beta) \\\n",
      "    -sin(delta)*cos(phi)*sin(beta)*cos(gamma) \\\n",
      "    +cos(delta)*cos(phi)*cos(beta)*cos(omega) \\\n",
      "    +cos(delta)*sin(phi)*sin(beta)*cos(gamma)*cos(omega)\\\n",
      "    +cos(delta)*sin(beta)*sin(gamma)*sin(omega)\n",
      "#print \"Io, deltal, omega\",Io,delta,omega,Iz\n",
      "plot(jday,Iz)\n"
     ],
     "language": "python",
     "metadata": {},
     "outputs": [
      {
       "metadata": {},
       "output_type": "pyout",
       "prompt_number": 36,
       "text": [
        "[<matplotlib.lines.Line2D at 0xc7fd1d0>]"
       ]
      },
      {
       "metadata": {},
       "output_type": "display_data",
       "png": "[encoded data removed]",
       "text": [
        "<matplotlib.figure.Figure at 0x83dbd68>"
       ]
      }
     ],
     "prompt_number": 36
    },
    {
     "cell_type": "code",
     "collapsed": false,
     "input": [
      "265.3%1"
     ],
     "language": "python",
     "metadata": {},
     "outputs": [
      {
       "metadata": {},
       "output_type": "pyout",
       "prompt_number": 2,
       "text": [
        "0.30000000000001137"
       ]
      }
     ],
     "prompt_number": 2
    },
    {
     "cell_type": "code",
     "collapsed": false,
     "input": [
      "k = 0.48    # piston velocity (m/day)\n",
      "Osat = 10.  # O2 saturation level mg/L\n",
      "zl = 2.     # thickness of mixed layer (m)\n",
      "\n",
      "# pack model parameters in tuple\n",
      "p = (k, Osat, zl)\n",
      "\n",
      "def dOdt(O,t,p):\n",
      "    # unpack p for readibility\n",
      "    k=p[0]\n",
      "    Osat = p[1]\n",
      "    zl = p[2]\n",
      "    return( -k*(O-Osat)/zl )\n",
      "\n",
      "#def dOdt(O,t):\n",
      "#    return( 0.48*(O-10.) )\n",
      "\n",
      "# times for computing solution\n",
      "t = linspace(0,25,26)\n",
      "\n",
      "# initial condition\n",
      "Oinit = 8.\n",
      "\n",
      "# integrate\n",
      "O = odeint(dOdt, Oinit, t, args=(p,) )\n",
      "\n",
      "# Simple explicit (Euler) method\n",
      "t2 = linspace(0.,25.,26.)\n",
      "O2 = zeros_like(t2)\n",
      "O2[0]=Oinit;\n",
      "O3 = O2;\n",
      "dt = t2[1]-t2[0]\n",
      "for i in xrange(len(t2)-1):\n",
      "    O2[i+1]=O2[i]-dt*k*(O2[i]-Osat)/zl\n",
      "\n",
      "# 4-th order Runge-Kutta - this uses the dOdt function\n",
      "O3 = zeros_like(t2)\n",
      "O3[0]=Oinit;\n",
      "for i in xrange(len(t2)-1):    \n",
      "    yi = dOdt(O3[i],1,p)\n",
      "    k1 = dt*yi\n",
      "    k2 = dt*( dOdt(O3[i]+0.5*k1,1,p) )\n",
      "    k3 = dt*( dOdt(O3[i]+0.5*k2,1,p) )\n",
      "    k4 = dt*( dOdt(O3[i]+k3,1,p) )\n",
      "    O3[i+1]=O3[i]+k1/6.+k2/3.+k3/3.+k4/6.\n",
      "    \n",
      "# plot\n",
      "fig = plt.figure()\n",
      "plt.plot(t,O, label='odeint')\n",
      "plt.plot(t2,O2, label='Euler')\n",
      "plt.plot(t2,O3, label='Runge-Kutta')\n",
      "plt.xlabel('Time (hours)')\n",
      "plt.ylabel('O2 Concentration (mg/L)')\n",
      "plt.legend()"
     ],
     "language": "python",
     "metadata": {},
     "outputs": []
    }
   ],
   "metadata": {}
  }
 ]
}