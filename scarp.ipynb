{
 "cells": [
  {
   "cell_type": "code",
   "execution_count": null,
   "metadata": {
    "collapsed": true
   },
   "outputs": [],
   "source": [
    "# Beach erosion via scarp failure\n",
    "import numpy as np \n",
    "\n",
    "g = 9.81\n",
    "rho = 1025. # water density\n",
    "rhosb =     # sediment bulk density\n",
    "\n",
    "theta =\n",
    "alpha =\n",
    "tanalpha = np.tan(alpha)\n",
    "tanalpha2 = tanalpha**2\n",
    "\n",
    "Pw = rho*g*PHI\n",
    "THETA = \n",
    "\n",
    "# Lateral earth force\n",
    "delz0 - zc-zb\n",
    "FE = rhosb*g*delz0/(2.*tanalpha2 )-Pw*THETA*(1.-1./tanalpha2)*delz0 # Eqn 21\n",
    "\n",
    "# Weight force of potential slump block\n",
    "FW = (rhosb*g+rho*g*theta)*(delzd-0.5*delxI*tanalpha)*delxI # Egn 23\n",
    "\n",
    "# Destabilizing force\n",
    "FD = FW*np.sin(alpha)+FE*np.cos(alpha)"
   ]
  }
 ],
 "metadata": {
  "kernelspec": {
   "display_name": "Python 2",
   "language": "python",
   "name": "python2"
  },
  "language_info": {
   "codemirror_mode": {
    "name": "ipython",
    "version": 2
   },
   "file_extension": ".py",
   "mimetype": "text/x-python",
   "name": "python",
   "nbconvert_exporter": "python",
   "pygments_lexer": "ipython2",
   "version": "2.7.11"
  }
 },
 "nbformat": 4,
 "nbformat_minor": 0
}
