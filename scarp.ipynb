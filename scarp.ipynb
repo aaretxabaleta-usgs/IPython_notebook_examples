{
 "cells": [
  {
   "cell_type": "code",
   "execution_count": 5,
   "metadata": {
    "collapsed": false
   },
   "outputs": [
    {
     "name": "stdout",
     "output_type": "stream",
     "text": [
      "[  0.   1.   2.   3.   4.   5.   6.   7.   8.   9.  10.]\n",
      "[  0.   1.   3.   6.  10.  15.  21.  28.  36.  45.  55.]\n"
     ]
    }
   ],
   "source": [
    "# Beach erosion via scarp failure\n",
    "import numpy as np \n",
    "\n",
    "por = 0.6 # porosity (is this theta?)\n",
    "g = 9.81\n",
    "rho = 1025. # water density\n",
    "rhosb = por*rho + (1.-por)*2650.    # sediment bulk density\n",
    "\n",
    "# these are small thetas in paper\n",
    "#wcr = XX # residual water content\n",
    "#wcs = XX # saturated water content\n",
    "delwc = 0.7 # after Eqn. 8\n",
    "\n",
    "nt = 10\n",
    "\n",
    "K = 4.e-5\n",
    "delPhi = \n",
    "t = np.arange(0,11,dtype=float)\n",
    "delxI = np.zeros_like(t)\n",
    "print t\n",
    "\n",
    "delxI = np.sqrt( 2*K*delPhi*t/delwc)\n",
    "print delxI"
   ]
  },
  {
   "cell_type": "code",
   "execution_count": null,
   "metadata": {
    "collapsed": true
   },
   "outputs": [],
   "source": [
    "theta = dtr*30.\n",
    "alpha =\n",
    "tanalpha = np.tan(alpha)\n",
    "tanalpha2 = tanalpha**2\n",
    "\n",
    "Pw = rho*g*PHI\n",
    "THETA = \n",
    "\n",
    "# Lateral earth force\n",
    "delz0 - zc-zb\n",
    "FE = rhosb*g*delz0/(2.*tanalpha2 )-Pw*THETA*(1.-1./tanalpha2)*delz0 # Eqn 21\n",
    "\n",
    "# Weight force of potential slump block\n",
    "FW = (rhosb*g+rho*g*theta)*(delzd-0.5*delxI*tanalpha)*delxI # Egn 23\n",
    "\n",
    "# Destabilizing force\n",
    "FD = FW*np.sin(alpha)+FE*np.cos(alpha)\n",
    "# Stabilizing force\n",
    "FS FW*np.cos(alpha)"
   ]
  }
 ],
 "metadata": {
  "kernelspec": {
   "display_name": "Python 2",
   "language": "python",
   "name": "python2"
  },
  "language_info": {
   "codemirror_mode": {
    "name": "ipython",
    "version": 2
   },
   "file_extension": ".py",
   "mimetype": "text/x-python",
   "name": "python",
   "nbconvert_exporter": "python",
   "pygments_lexer": "ipython2",
   "version": "2.7.11"
  }
 },
 "nbformat": 4,
 "nbformat_minor": 0
}
