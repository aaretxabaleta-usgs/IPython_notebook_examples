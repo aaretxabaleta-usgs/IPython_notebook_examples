{
 "cells": [
  {
   "cell_type": "markdown",
   "metadata": {},
   "source": [
    "<h3>First-Order Transformation Equations</h3> This routine solves transformation equations (equivalent to radioactive decay equations). Analytical solutions were found by Bateman (1910), but the numerical solutions are more flexible (and arguably more elegant).\n",
    "\n",
    "The coupled set of ordinary differential equations is:\n",
    "\n",
    "$$\\begin{matrix} \\frac{d{{C}_{DDE}}}{dt}=-{{\\lambda }_{DDE\\to DDMU}}{{C}_{DDE}}-{{\\lambda }_{Loss}}{{C}_{DDE}}\\\\\n",
    "\\frac{d{{C}_{DDMU}}}{dt}=-{{\\lambda }_{DDMU\\to DDNS}}{{C}_{DDMU}}+{{\\lambda }_{DDE\\to DDMU}}{{C}_{DDE}}-{{\\lambda }_{Loss}}{{C}_{DDMU}}\\\\\n",
    "\\frac{d{{C}_{DDNS}}}{dt}=-{{\\lambda}_{DDNS\\to ?}}{{C}_{DDNS}}+{{\\lambda}_{DDMU\\to DDNS}}{{C}_{DDMU}}-{{\\lambda }_{Loss}}{{C}_{DDNS}}\\ \\end{matrix}$$\n",
    "\n",
    "where ${{\\lambda}_{X\\to Y}}$ is transformation rate from compound ${X}$ to compound ${Y}$. The ${{\\lambda}_{Loss}}$ term represents physical removal of the compounds by, for example, resuspension and desorption. In this example, it is applied equally to all compounds, and can be set to zero to represent a closed system."
   ]
  },
  {
   "cell_type": "code",
   "execution_count": 2,
   "metadata": {
    "collapsed": false
   },
   "outputs": [
    {
     "name": "stdout",
     "output_type": "stream",
     "text": [
      "Calculate button clicked.\n"
     ]
    }
   ],
   "source": [
    "from IPython.html.widgets import interact, interactive, fixed\n",
    "from IPython.html import widgets\n",
    "from IPython.display import clear_output, display, HTML\n",
    "from scipy.integrate import odeint\n",
    "from pylab import *\n",
    "\n",
    "global lam\n",
    "\n",
    "def dcdt(c,t):\n",
    "    dfdt = np.zeros(4)\n",
    "    dfdt[0] = c[0]* -lam[0]               - c[0]*lam[3]\n",
    "    dfdt[1] = c[1]* -lam[1] + c[0]*lam[0] - c[1]*lam[3] \n",
    "    dfdt[2] = c[2]* -lam[2] + c[1]*lam[1] - c[2]*lam[3]\n",
    "    dfdt[3] =                 c[2]*lam[2] - c[3]*lam[3]\n",
    "    return dfdt\n",
    "\n",
    "def on_button_clicked(b):\n",
    "    print(\"Calculate button clicked.\")\n",
    "    global lam\n",
    "    lam = array([float(L0.value),float(L1.value),\\\n",
    "                 float(L2.value),float(L3.value)])\n",
    "    C0 = array([.68, .23, .06, 0.])\n",
    "    t = linspace(0.0,100.,50)\n",
    "    C = odeint(dcdt,C0,t)\n",
    "\n",
    "    fig = plt.figure(figsize=(6,5))\n",
    "    plot(t+float(DS.value),C[:,0],label='DDE')\n",
    "    plot(t+float(DS.value),C[:,1],label='DDMU')\n",
    "    plot(t+float(DS.value),C[:,2],label='DDNS')\n",
    "    plot(t+float(DS.value),C[:,3],label='?')\n",
    "    plt.legend()\n",
    "    plt.ylabel('Inventory')\n",
    "    \n",
    "DS = widgets.TextWidget(description = r'Start year',value='1992')\n",
    "L0 = widgets.TextWidget(description = r'DDE  -> DDMU',value='0.052')\n",
    "L1 = widgets.TextWidget(description = r'DDMU -> DDNS',value='0.07')\n",
    "L2 = widgets.TextWidget(description = r'DDNS ->  ?  ',value='0.161')\n",
    "L3 = widgets.TextWidget(description = r'DDX  -> lost',value='0.00')\n",
    "B  = widgets.ButtonWidget(description = r'Calculate!')\n",
    "\n",
    "display(DS,L0,L1,L2,L3,B)\n",
    "B.on_click(on_button_clicked)"
   ]
  },
  {
   "cell_type": "code",
   "execution_count": null,
   "metadata": {
    "collapsed": false
   },
   "outputs": [],
   "source": []
  }
 ],
 "metadata": {
  "kernelspec": {
   "display_name": "Python 2",
   "language": "python",
   "name": "python2"
  },
  "language_info": {
   "codemirror_mode": {
    "name": "ipython",
    "version": 2
   },
   "file_extension": ".py",
   "mimetype": "text/x-python",
   "name": "python",
   "nbconvert_exporter": "python",
   "pygments_lexer": "ipython2",
   "version": "2.7.10"
  }
 },
 "nbformat": 4,
 "nbformat_minor": 0
}
