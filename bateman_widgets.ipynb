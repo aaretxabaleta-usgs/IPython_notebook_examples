{
 "metadata": {
  "name": "bateman_widgets.ipynb"
 },
 "nbformat": 3,
 "nbformat_minor": 0,
 "worksheets": [
  {
   "cells": [
    {
     "cell_type": "markdown",
     "metadata": {},
     "source": [
      "<h3>First-Order Transformation Equations</h3> This routine solves transformation equations (equivalent to radioactive decay equations). Analytical solutions were found by Bateman (1910), but the numerical solutions are more flexible (and arguably more elegant).\n",
      "\n",
      "The coupled set of ordinary differential equations is:\n",
      "\n",
      "$$\\begin{matrix} \\frac{d{{C}_{DDE}}}{dt}=-{{\\lambda }_{DDE\\to DDMU}}{{C}_{DDE}}-{{\\lambda }_{Loss}}{{C}_{DDE}}\\\\\n",
      "\\frac{d{{C}_{DDMU}}}{dt}=-{{\\lambda }_{DDMU\\to DDNS}}{{C}_{DDMU}}+{{\\lambda }_{DDE\\to DDMU}}{{C}_{DDE}}-{{\\lambda }_{Loss}}{{C}_{DDMU}}\\\\\n",
      "\\frac{d{{C}_{DDNS}}}{dt}=-{{\\lambda}_{DDNS\\to ?}}{{C}_{DDNS}}+{{\\lambda}_{DDMU\\to DDNS}}{{C}_{DDMU}}-{{\\lambda }_{Loss}}{{C}_{DDNS}}\\ \\end{matrix}$$\n",
      "\n",
      "where ${{\\lambda}_{X\\to Y}}$ is transformation rate from compound ${X}$ to compound ${Y}$. The ${{\\lambda}_{Loss}}$ term represents physical removal of the compounds by, for example, resuspension and desorption. In this example, it is applied equally to all compounds, and can be set to zero to represent a closed system."
     ]
    },
    {
     "cell_type": "code",
     "collapsed": false,
     "input": [
      "from IPython.html.widgets import interact, interactive, fixed\n",
      "from IPython.html import widgets\n",
      "from IPython.display import clear_output, display, HTML\n",
      "from scipy.integrate import odeint\n",
      "from pylab import *\n",
      "\n",
      "global lam\n",
      "\n",
      "def dcdt(c,t):\n",
      "    dfdt = np.zeros(4)\n",
      "    dfdt[0] = c[0]* -lam[0]               - c[0]*lam[3]\n",
      "    dfdt[1] = c[1]* -lam[1] + c[0]*lam[0] - c[1]*lam[3] \n",
      "    dfdt[2] = c[2]* -lam[2] + c[1]*lam[1] - c[2]*lam[3]\n",
      "    dfdt[3] =                 c[2]*lam[2] - c[3]*lam[3]\n",
      "    return dfdt\n",
      "\n",
      "def on_button_clicked(b):\n",
      "    print(\"Calculate button clicked.\")\n",
      "    global lam\n",
      "    lam = array([float(L0.value),float(L1.value),\\\n",
      "                 float(L2.value),float(L3.value)])\n",
      "    C0 = array([.68, .23, .06, 0.])\n",
      "    t = linspace(0.0,100.,50)\n",
      "    C = odeint(dcdt,C0,t)\n",
      "\n",
      "    fig = plt.figure(figsize=(6,5))\n",
      "    plot(t+float(DS.value),C[:,0],label='DDE')\n",
      "    plot(t+float(DS.value),C[:,1],label='DDMU')\n",
      "    plot(t+float(DS.value),C[:,2],label='DDNS')\n",
      "    plot(t+float(DS.value),C[:,3],label='?')\n",
      "    plt.legend()\n",
      "    plt.ylabel('Inventory')\n",
      "    \n",
      "DS = widgets.TextWidget(description = r'Start year',value='1992')\n",
      "L0 = widgets.TextWidget(description = r'DDE  -> DDMU',value='0.052')\n",
      "L1 = widgets.TextWidget(description = r'DDMU -> DDNS',value='0.07')\n",
      "L2 = widgets.TextWidget(description = r'DDNS ->  ?  ',value='0.161')\n",
      "L3 = widgets.TextWidget(description = r'DDX  -> lost',value='0.00')\n",
      "B  = widgets.ButtonWidget(description = r'Calculate!')\n",
      "\n",
      "display(DS,L0,L1,L2,L3,B)\n",
      "B.on_click(on_button_clicked)"
     ],
     "language": "python",
     "metadata": {},
     "outputs": [
      {
       "ename": "ImportError",
       "evalue": "No module named widgets",
       "output_type": "pyerr",
       "traceback": [
        "\u001b[1;31m---------------------------------------------------------------------------\u001b[0m\n\u001b[1;31mImportError\u001b[0m                               Traceback (most recent call last)",
        "\u001b[1;32m<ipython-input-1-0c87d222b43e>\u001b[0m in \u001b[0;36m<module>\u001b[1;34m()\u001b[0m\n\u001b[1;32m----> 1\u001b[1;33m \u001b[1;32mfrom\u001b[0m \u001b[0mIPython\u001b[0m\u001b[1;33m.\u001b[0m\u001b[0mhtml\u001b[0m\u001b[1;33m.\u001b[0m\u001b[0mwidgets\u001b[0m \u001b[1;32mimport\u001b[0m \u001b[0minteract\u001b[0m\u001b[1;33m,\u001b[0m \u001b[0minteractive\u001b[0m\u001b[1;33m,\u001b[0m \u001b[0mfixed\u001b[0m\u001b[1;33m\u001b[0m\u001b[0m\n\u001b[0m\u001b[0;32m      2\u001b[0m \u001b[1;32mfrom\u001b[0m \u001b[0mIPython\u001b[0m\u001b[1;33m.\u001b[0m\u001b[0mhtml\u001b[0m \u001b[1;32mimport\u001b[0m \u001b[0mwidgets\u001b[0m\u001b[1;33m\u001b[0m\u001b[0m\n\u001b[0;32m      3\u001b[0m \u001b[1;32mfrom\u001b[0m \u001b[0mIPython\u001b[0m\u001b[1;33m.\u001b[0m\u001b[0mdisplay\u001b[0m \u001b[1;32mimport\u001b[0m \u001b[0mclear_output\u001b[0m\u001b[1;33m,\u001b[0m \u001b[0mdisplay\u001b[0m\u001b[1;33m,\u001b[0m \u001b[0mHTML\u001b[0m\u001b[1;33m\u001b[0m\u001b[0m\n\u001b[0;32m      4\u001b[0m \u001b[1;32mfrom\u001b[0m \u001b[0mscipy\u001b[0m\u001b[1;33m.\u001b[0m\u001b[0mintegrate\u001b[0m \u001b[1;32mimport\u001b[0m \u001b[0modeint\u001b[0m\u001b[1;33m\u001b[0m\u001b[0m\n\u001b[0;32m      5\u001b[0m \u001b[1;32mfrom\u001b[0m \u001b[0mpylab\u001b[0m \u001b[1;32mimport\u001b[0m \u001b[1;33m*\u001b[0m\u001b[1;33m\u001b[0m\u001b[0m\n",
        "\u001b[1;31mImportError\u001b[0m: No module named widgets"
       ]
      }
     ],
     "prompt_number": 1
    },
    {
     "cell_type": "code",
     "collapsed": false,
     "input": [],
     "language": "python",
     "metadata": {},
     "outputs": []
    }
   ],
   "metadata": {}
  }
 ]
}