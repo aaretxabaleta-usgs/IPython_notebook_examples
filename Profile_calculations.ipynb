{
 "cells": [
  {
   "cell_type": "code",
   "execution_count": 31,
   "metadata": {
    "collapsed": false
   },
   "outputs": [
    {
     "name": "stdout",
     "output_type": "stream",
     "text": [
      "h= [  5.  10.  15.  20.  25.  30.  35.  40.  45.  50.]\n",
      "kh= [ 0.4641802   0.68019074  0.86426575  1.03651363  1.20474324  1.37292477\n",
      "  1.5432809   1.71702844  1.89471566  2.07642263]\n",
      "Ur= [ 1.04426159  0.24315941  0.10040762  0.05235673  0.03100441  0.01989472\n",
      "  0.01349567  0.00953976  0.00696389  0.00521856]\n",
      "u0= [ 1.95929248  1.28426249  0.96570193  0.76478672  0.62084081  0.51034225\n",
      "  0.42204524  0.34981995  0.28997996  0.24010622]\n",
      "u0s= [ 1.3356182   0.85115883  0.62679047  0.48903999  0.39310081  0.32144629\n",
      "  0.26566536  0.22113968  0.18504726  0.15550402]\n",
      "u1= [ 0.42539908  0.13391206  0.06413921  0.03618321  0.02217157  0.01422754\n",
      "  0.00937511  0.0062703   0.00422619  0.00285781]\n",
      "u2= [  1.83845427e+00   2.48648043e-01   6.73391431e-02   2.38256916e-02\n",
      "   9.62087714e-03   4.17167756e-03   1.87997518e-03   8.63843237e-04\n",
      "   4.00076119e-04   1.85480614e-04]\n",
      "qs= [ -3.89429253e-04  -2.03130903e-05  -3.18930745e-06  -7.64895142e-07\n",
      "  -2.26518765e-07  -7.53300372e-08  -2.67465443e-08  -9.84435892e-09\n",
      "  -3.68908675e-09  -1.39222290e-09]\n",
      "B0= [ 0.65696583  0.28321587  0.18496581  0.14240026  0.11962266  0.10599152\n",
      "  0.09729336  0.09153246  0.0876374   0.08497718]\n",
      "B0s= [ 1.41376319  0.64476873  0.43906911  0.34825929  0.29837752  0.26716363\n",
      "  0.24554516  0.22905034  0.21520887  0.20259366]\n"
     ]
    }
   ],
   "source": [
    "import numpy as np\n",
    "from matplotlib import pyplot as plt\n",
    "%matplotlib inline\n",
    "\n",
    "def qkhfs( w, h ):\n",
    "    \"\"\"\n",
    "    Quick iterative calculation of kh in gravity-wave dispersion relationship\n",
    "    kh = qkhfs(w, h )\n",
    "    \n",
    "    Input\n",
    "        w - angular wave frequency = 2*pi/T where T = wave period [1/s]\n",
    "        h - water depth [m]\n",
    "    Returns\n",
    "        kh - wavenumber * depth [m]\n",
    "\n",
    "    Orbital velocities from kh are accurate to 3e-12 !\n",
    "\n",
    "    RL Soulsby (2006) \\\"Simplified calculation of wave orbital velocities\\\"\n",
    "    HR Wallingford Report TR 155, February 2006\n",
    "    Eqns. 12a - 14\n",
    "    \"\"\"\n",
    "    g = 9.81\n",
    "    x = w**2.0 *h/g\n",
    "    y = np.sqrt(x) * (x<1.) + x *(x>=1.)\n",
    "    # This appalling bit of code is faster than a loop in Matlab and Fortran\n",
    "    # but have not tested speed in Python.\n",
    "    t = np.tanh( y )\n",
    "    y = y-( (y*t -x)/(t+y*(1.0-t**2.0)))\n",
    "    t = np.tanh( y )\n",
    "    y = y-( (y*t -x)/(t+y*(1.0-t**2.0)))\n",
    "    t = np.tanh( y )\n",
    "    y = y-( (y*t -x)/(t+y*(1.0-t**2.0)))\n",
    "    kh = y\n",
    "    return kh\n",
    "\n",
    "def ursell( aw, k, h ):\n",
    "    \"\"\"\n",
    "    Calculate Ursell number\n",
    "    Ur = ursell( aw, k, h)\n",
    "        \n",
    "    The Ursell number is a measure of asymmetry based on Stokes 2nd order\n",
    "    wave equations and strictly speaking applies to shallow water (kh<1).\n",
    "    It proportiona to the ratio of the 2nd order wave height term over\n",
    "    the 1st order term.\n",
    "    \n",
    "    Input:\n",
    "        aw = wave amplitude (H/2) [m/s]\n",
    "        k  = wave number []\n",
    "        h  = water depth [m]\n",
    "        \n",
    "    Returns:\n",
    "        Ursell number\n",
    "        \n",
    "    Reussink et al. Eqn 6.\n",
    "    \"\"\"\n",
    "    return (3./4.)*aw*k/(k*h)**3.\n",
    "\n",
    "def urms_25( Hs, Tp, h ):\n",
    "    \"\"\"\n",
    "    Calculate u_rms for JONSWAP spectr\n",
    "    urms = urms_28( Hs, Tp, h )\n",
    "    \n",
    "    Equation 25 in Soulsby, R. L. (2006), \"Simplified calculation of \n",
    "    wave orbital velocities\". Report TR 155, Release 1.0, Feb. 2006.\n",
    "    HR Wallingford.\n",
    "    \n",
    "    \"\"\"\n",
    "    Tz = Tp/1.28           # can't remember where I found this\n",
    "    Tn = ( h/g )**(1./2.)                      # Eqn 8\n",
    "    t = Tn /Tz                                 # Eqn 27\n",
    "    A = (6500.+(0.56 + 15.54*t)**6)**(1./6.)   # Eqn 26\n",
    "    urms_25 = (0.25*Hs/Tn) /((1.+A*t**2)**3)   # Eqn 25\n",
    "    return urms_25\n",
    "\n",
    "g = 9.81\n",
    "rhos = 2650.\n",
    "rho = 1040.\n",
    "es = 0.01\n",
    "Cs = 0.01\n",
    "B = 0.\n",
    "ws= 0.33\n",
    "h = np.linspace(5,50,10)\n",
    "H = 3.\n",
    "T = 10.\n",
    "w = 2.*np.pi/T\n",
    "kh = qkhfs(w,h)\n",
    "k = kh/h\n",
    "L = np.pi*2./k\n",
    "aw = H/2.\n",
    "Ur = ursell(aw, k, h)\n",
    "u0 = np.pi*H/(T*np.sinh(kh))\n",
    "u0s = np.sqrt(2.)*urms_25(H, T, h)\n",
    "u1 = 3.*np.pi**2*H**2/(4.*T*L*np.sinh(kh)**2)\n",
    "u2 = 3.*np.pi**2*H**2/(4.*T*L*np.sinh(kh)**4)\n",
    "K = 16*es*Cs*rho/(15.*np.pi*(rhos-rho)*g)\n",
    "qs = K*(u0**3/ws)*(-5*u1-3*u2+B*u0**2/ws)\n",
    "qss = K*(u0s**3/ws)*(-5*u1-3*u2+B*u0s**2/ws)\n",
    "\n",
    "# Equilibrium profile\n",
    "B0 = (ws/u0**2)*(5*u1+3*u2)\n",
    "B0s = (ws/u0s**2)*(5*u1+3*u2)\n",
    "print 'h=',h\n",
    "print 'kh=',kh\n",
    "print 'Ur=',Ur\n",
    "print 'u0=',u0\n",
    "print 'u0s=',u0s\n",
    "print 'u1=',u1\n",
    "print 'u2=',u2\n",
    "print 'qs=',qs\n",
    "print 'B0=',B0\n",
    "print 'B0s=',B0s"
   ]
  },
  {
   "cell_type": "code",
   "execution_count": 29,
   "metadata": {
    "collapsed": false
   },
   "outputs": [
    {
     "data": {
      "text/plain": [
       "<matplotlib.text.Text at 0xcb94358>"
      ]
     },
     "execution_count": 29,
     "metadata": {},
     "output_type": "execute_result"
    },
    {
     "data": {
      "image/png": "[encoded data removed]",
      "text/plain": [
       "<matplotlib.figure.Figure at 0xc466f60>"
      ]
     },
     "metadata": {},
     "output_type": "display_data"
    }
   ],
   "source": [
    "# reproduce Fig. 1. This does not exactly match. Maybe needs different ws (in K)?\n",
    "fig = plt.figure()\n",
    "plt.plot(-np.log10(-qs),-h)\n",
    "plt.plot(-np.log10(-qss),-h)\n",
    "plt.ylim(ymax=0., ymin=-50)\n",
    "plt.xlabel('log10 qs (m2/s)')\n",
    "plt.ylabel('Depth (m)')"
   ]
  }
 ],
 "metadata": {
  "kernelspec": {
   "display_name": "Python 2",
   "language": "python",
   "name": "python2"
  },
  "language_info": {
   "codemirror_mode": {
    "name": "ipython",
    "version": 2
   },
   "file_extension": ".py",
   "mimetype": "text/x-python",
   "name": "python",
   "nbconvert_exporter": "python",
   "pygments_lexer": "ipython2",
   "version": "2.7.9"
  }
 },
 "nbformat": 4,
 "nbformat_minor": 0
}
