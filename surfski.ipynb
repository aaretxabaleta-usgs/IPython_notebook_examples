{
 "metadata": {
  "name": "surfski.ipynb"
 },
 "nbformat": 3,
 "nbformat_minor": 0,
 "worksheets": [
  {
   "cells": [
    {
     "cell_type": "heading",
     "level": 1,
     "metadata": {},
     "source": [
      "Surfski"
     ]
    },
    {
     "cell_type": "markdown",
     "metadata": {},
     "source": [
      "This is a platform for me to learn Python. The goal is to come up with a realistic simulation of surfski performance over an open-water course with wind, waves, and currents. At any given time, it may be broken, and it may never be code you want to emulate."
     ]
    },
    {
     "cell_type": "code",
     "collapsed": false,
     "input": [
      "# this is being developed in Canopy, \n",
      "# so I am not sure which packages need to be imported.\n",
      "import numpy as np\n",
      "\n",
      "# a small number for math computations\n",
      "eps = sys.float_info.epsilon\n",
      "\n",
      "# define some conversion factors\n",
      "mph2ms = 0.44704 # [m s-1 / miles h-1]\n",
      "rhow = 1030      # kg/m3\n",
      "rhoa = 1.03      # kg/m3\n",
      "\n",
      "# define some useful functions\n",
      "def pcoord(x, y):\n",
      "    \"\"\"\n",
      "    Convert x, y to polar coordinates r, az (geographic convention)\n",
      "    r,az = pcoord(x, y)\n",
      "    \"\"\"\n",
      "    r  = sqrt( x**2 + y**2 )\n",
      "    az=degrees( arctan2(x, y) )\n",
      "    # az[where(az<0.)[0]] += 360.\n",
      "    az = (az+360.)%360.\n",
      "    return r, az\n",
      "\n",
      "def xycoord(r, az):\n",
      "    \"\"\"\n",
      "    Convert r, az [degrees, geographic convention] to rectangular coordinates\n",
      "    x,y = xycoord(r, az)\n",
      "    \"\"\"\n",
      "    x = r * sin(radians(az))\n",
      "    y = r * cos(radians(az))\n",
      "    return x, y"
     ],
     "language": "python",
     "metadata": {},
     "outputs": [],
     "prompt_number": "*"
    },
    {
     "cell_type": "markdown",
     "metadata": {},
     "source": [
      "Boat speed is a function of effective effort. (TODO: Ideally, effort should be linked to something measurable, like heart rate). Here are some guidelines:\n",
      "\n",
      "1. Effort peaks at 100%. At this level of effort, fractional boat speed is 1...that is as fast as you can make that boat go in perfect conditions.\n",
      "2. You can't exert 100% effort forever. Over the course of a normal race the best you can sustain is 90%. Above that, you go anaerobic, so you can only do that for short periods of time. (TODO: We should discuss what this value actually is, and whether it should depend on the length of the race...maybe we need to track energy use over time). \n",
      "3. The cruising speed of a boat is how fast it goes at 90% effort.\n",
      "4. Effective effort is reduced by waves...the reduction is greatest when waves are broadside, least when waves are astern, and in between when waves are head-on. The reduction can become less effective with waves, as some effort"
     ]
    },
    {
     "cell_type": "code",
     "collapsed": false,
     "input": [
      "eefort = arange(0., 120., 5.)\n",
      "def speedFeefort (eefort):\n",
      "    # \"Boat speed as a function of effective effort\"\n",
      "    speed = 1.18*tanh(eefort/80.)\n",
      "    return speed\n",
      "plot(eefort,speedFeefort(eefort))\n",
      "xlabel(\"Effective Effort (%)\")\n",
      "ylabel(\"Fraction of Max. Boat Speed ()\")\n",
      "print \"Fractional speed at 100% effort\",(speedFeefort(100.) )\n",
      "print \"Fractional speed at 90% effort\",(speedFeefort(90.) )"
     ],
     "language": "python",
     "metadata": {},
     "outputs": [],
     "prompt_number": "*"
    },
    {
     "cell_type": "markdown",
     "metadata": {},
     "source": [
      "Wind affects boat speed by pushing the boat downwind. (The effect of waves is treated separately). Wind direction is the direction the wind is blowing toward...for a north wind, wdir = 180; for a west wind, wdir = 90."
     ]
    },
    {
     "cell_type": "code",
     "collapsed": false,
     "input": [
      "wspd = 15*mph2ms\n",
      "wdir = arange(0.,361.,90.)\n",
      "bhdg = 180.\n",
      "awdir = wdir - bhdg\n",
      "print \"Apparent wind direction: \",awdir\n",
      "fArea = 0.5*.0254*19.*.0254*10. + 0.0254*19.*0.0254*36.0 # 1/2 width x height + paddler\n",
      "sArea =21.*12.*.0254*10.*.0254  + 0.0254*19.*0.0254*36.0 # length x height + paddler\n",
      "print \"Frontal area:\",fArea, \"m2\"\n",
      "print \"Side area: \",sArea, \"m2\"\n",
      "rd = 57.29577950\n",
      "efArea = np.sin(awdir/rd)*fArea + np.cos(awdir/rd)*sArea\n",
      "print \"Effective area: \",efArea\n",
      "Swdrift = 0.5*rhoa*wspd**2.*CD"
     ],
     "language": "python",
     "metadata": {},
     "outputs": [],
     "prompt_number": "*"
    },
    {
     "cell_type": "code",
     "collapsed": false,
     "input": [
      "az = arange(0., 361, 22.5)\n",
      "rd = 57.29577950\n",
      "x = np.sin(az/rd)\n",
      "y = np.cos(az/rd)\n",
      "print az\n",
      "print x\n",
      "print y"
     ],
     "language": "python",
     "metadata": {},
     "outputs": [],
     "prompt_number": "*"
    },
    {
     "cell_type": "code",
     "collapsed": false,
     "input": [],
     "language": "python",
     "metadata": {},
     "outputs": [],
     "prompt_number": "*"
    }
   ],
   "metadata": {}
  }
 ]
}