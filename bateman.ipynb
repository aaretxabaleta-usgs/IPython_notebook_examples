{
 "metadata": {
  "name": "bateman.ipynb"
 },
 "nbformat": 3,
 "nbformat_minor": 0,
 "worksheets": [
  {
   "cells": [
    {
     "cell_type": "heading",
     "level": 2,
     "metadata": {},
     "source": [
      "print \"hello pat\""
     ]
    },
    {
     "cell_type": "code",
     "collapsed": false,
     "input": [
      "from scipy.integrate import odeint\n",
      "from pylab import *\n",
      "\n",
      "global lam\n",
      "lam = array([.052, .07, .161, .1])\n",
      "\n",
      "def dcdt(c,t):\n",
      "    dfdt = np.zeros(4)\n",
      "    dfdt[0] = c[0]* -lam[0] - c[0]*lam[3]\n",
      "    dfdt[1] = c[1]* -lam[1] + c[0]*lam[0] - c[1]*lam[3] \n",
      "    dfdt[2] = c[2]* -lam[2] + c[1]*lam[1] - c[2]*lam[3]\n",
      "    dfdt[3] =                 c[2]*lam[2] - c[3]*lam[3]\n",
      "    return dfdt\n",
      "    \n",
      "C0 = array([.68, .23, .06, 0.])\n",
      "t = linspace(0.0,100.,50)\n",
      "C = odeint(dcdt,C0,t)\n",
      "\n",
      "print shape(C)\n",
      "plot(t,C)"
     ],
     "language": "python",
     "metadata": {},
     "outputs": [
      {
       "output_type": "stream",
       "stream": "stdout",
       "text": [
        "(50L, 4L)\n"
       ]
      },
      {
       "metadata": {},
       "output_type": "pyout",
       "prompt_number": 4,
       "text": [
        "[<matplotlib.lines.Line2D at 0x85b5400>,\n",
        " <matplotlib.lines.Line2D at 0x85b5630>,\n",
        " <matplotlib.lines.Line2D at 0x85b5828>,\n",
        " <matplotlib.lines.Line2D at 0x85b59b0>]"
       ]
      },
      {
       "metadata": {},
       "output_type": "display_data",
       "png": "[encoded data removed]",
       "text": [
        "<matplotlib.figure.Figure at 0x8281b00>"
       ]
      }
     ],
     "prompt_number": 4
    },
    {
     "cell_type": "code",
     "collapsed": false,
     "input": [
      "    c = np.zeros(4)\n",
      "    lam = np.array([.052, .07, .161])\n",
      "    dfdt = np.zeros(4)\n",
      "    print dfdt[0]\n",
      "    print c[0]\n",
      "    dfdt[0] = c[0]* -lam[0]\n",
      "    dfdt[1] = c[1]* -lam[1] + c[0]*lam[0] \n",
      "    dfdt[2] = c[2]* -lam[2] + c[1]*lam[1] \n",
      "    dfdt[3] = c[3]          + c[2]*lam[2]"
     ],
     "language": "python",
     "metadata": {},
     "outputs": [
      {
       "output_type": "stream",
       "stream": "stdout",
       "text": [
        "0.0\n",
        "0.0\n"
       ]
      }
     ],
     "prompt_number": 32
    },
    {
     "cell_type": "code",
     "collapsed": false,
     "input": [
      "whos"
     ],
     "language": "python",
     "metadata": {},
     "outputs": [
      {
       "output_type": "stream",
       "stream": "stdout",
       "text": [
        "Variable   Type        Data/Info\n",
        "--------------------------------\n",
        "C          ndarray     50Lx4L: 200 elems, type `float64`, 1600 bytes\n",
        "C0         ndarray     4L: 4 elems, type `float64`, 32 bytes\n",
        "c          ndarray     0Lx0Lx0Lx0L: 0 elems, type `float64`, 0 bytes\n",
        "dcdt       function    <function dcdt at 0x000000000BE27BA8>\n",
        "dfdt       ndarray     4L: 4 elems, type `float64`, 32 bytes\n",
        "lam        ndarray     3L: 3 elems, type `float64`, 24 bytes\n",
        "odeint     function    <function odeint at 0x00000000084FCE48>\n",
        "scipy      module      <module 'scipy' from 'C:\\<...>ages\\scipy\\__init__.pyc'>\n",
        "t          ndarray     50L: 50 elems, type `float64`, 400 bytes\n"
       ]
      }
     ],
     "prompt_number": 27
    }
   ],
   "metadata": {}
  }
 ]
}