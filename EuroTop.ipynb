{
 "cells": [
  {
   "cell_type": "markdown",
   "metadata": {},
   "source": [
    "## Calculations from EuroTop\n",
    "\n",
    "http://www.overtopping-manual.com/eurotop.pdf\n",
    "\n",
    "### Some definitions\n",
    "Significant wave height `Hm0`: $H_{m0} = 4m_0^{1/2}$\n",
    "\n",
    "Average period `Tm` $T_m$\n",
    "\n",
    "Spectral period `Tmo`: $T_{m-1,0} = m_{-1}/m_0$\n",
    "\n",
    "Peak period `Tp`: $T_p = 1.1T_{m-1,0}$\n",
    "\n",
    "Wavelength `L0`: $L_0$\n",
    "\n",
    "Deepwater wavelength `Lm0`: $L_{m-1,0} = gT_{m-1,0}^2/2\\pi$  \n",
    "\n",
    "Wave steepness `s0`: $s_0 = H_{m0}/L_0$\n",
    "  - $s_0 = 0.01$ indicates swell\n",
    "  - $s_0 = 0.04 to 0.6$ typical wind sea\n",
    "  \n",
    "Slope `alpha` and `tanalpha`: $=\\tan(\\alpha)$  \n",
    "\n",
    "Iribarren number `em0` (breaker parameter, surf similarity number) $\\xi_{m-1,0} =\\tan(\\alpha)/(H_{m0}/L_{m-1,0})^{1/2}$\n",
    "  - $0.2<\\xi_{m-1,0}$ spilling waves\n",
    "  - $0.2 < \\xi_{m-1,0} < 2-3$ plunging waves\n",
    "  - $\\xi_{m-1,0} \\approx 2-3$ collapsing waves\n",
    "  - $\\xi_{m-1,0} > 2-3$ surging waves\n"
   ]
  },
  {
   "cell_type": "code",
   "execution_count": 6,
   "metadata": {
    "collapsed": false
   },
   "outputs": [
    {
     "name": "stdout",
     "output_type": "stream",
     "text": [
      "1.15516487685\n"
     ]
    },
    {
     "ename": "ValueError",
     "evalue": "'axis' entry is out of bounds",
     "output_type": "error",
     "traceback": [
      "\u001b[1;31m---------------------------------------------------------------------------\u001b[0m",
      "\u001b[1;31mValueError\u001b[0m                                Traceback (most recent call last)",
      "\u001b[1;32m<ipython-input-6-c627c7835008>\u001b[0m in \u001b[0;36m<module>\u001b[1;34m()\u001b[0m\n\u001b[0;32m     26\u001b[0m \u001b[1;33m\u001b[0m\u001b[0m\n\u001b[0;32m     27\u001b[0m \u001b[1;32mprint\u001b[0m \u001b[0mq_overtop_EOT\u001b[0m\u001b[1;33m(\u001b[0m\u001b[1;33m)\u001b[0m\u001b[1;33m\u001b[0m\u001b[0m\n\u001b[1;32m---> 28\u001b[1;33m \u001b[1;32mprint\u001b[0m \u001b[0mrunup_EOT\u001b[0m\u001b[1;33m(\u001b[0m\u001b[1;33m)\u001b[0m\u001b[1;33m\u001b[0m\u001b[0m\n\u001b[0m",
      "\u001b[1;32m<ipython-input-6-c627c7835008>\u001b[0m in \u001b[0;36mrunup_EOT\u001b[1;34m(Hm0, Tm0, tanalpha, yb, yf, yB)\u001b[0m\n\u001b[0;32m     20\u001b[0m     \u001b[0mL0\u001b[0m \u001b[1;33m=\u001b[0m \u001b[0mg\u001b[0m\u001b[1;33m*\u001b[0m\u001b[0mTm0\u001b[0m\u001b[1;33m**\u001b[0m\u001b[1;36m2.\u001b[0m\u001b[1;33m/\u001b[0m\u001b[1;33m(\u001b[0m\u001b[1;36m2\u001b[0m\u001b[1;33m*\u001b[0m\u001b[0mnp\u001b[0m\u001b[1;33m.\u001b[0m\u001b[0mpi\u001b[0m\u001b[1;33m)\u001b[0m\u001b[1;33m\u001b[0m\u001b[0m\n\u001b[0;32m     21\u001b[0m     \u001b[0mem0\u001b[0m \u001b[1;33m=\u001b[0m \u001b[0mtanalpha\u001b[0m\u001b[1;33m/\u001b[0m\u001b[0mnp\u001b[0m\u001b[1;33m.\u001b[0m\u001b[0msqrt\u001b[0m\u001b[1;33m(\u001b[0m\u001b[0mHm0\u001b[0m\u001b[1;33m/\u001b[0m\u001b[0mL0\u001b[0m\u001b[1;33m)\u001b[0m\u001b[1;33m\u001b[0m\u001b[0m\n\u001b[1;32m---> 22\u001b[1;33m     \u001b[0mRu2Hm0\u001b[0m \u001b[1;33m=\u001b[0m \u001b[0mnp\u001b[0m\u001b[1;33m.\u001b[0m\u001b[0mmax\u001b[0m\u001b[1;33m(\u001b[0m\u001b[0mc1\u001b[0m\u001b[1;33m*\u001b[0m\u001b[0myb\u001b[0m\u001b[1;33m*\u001b[0m\u001b[0myf\u001b[0m\u001b[1;33m*\u001b[0m\u001b[0myB\u001b[0m\u001b[1;33m*\u001b[0m\u001b[0mem0\u001b[0m\u001b[1;33m,\u001b[0m\u001b[0myb\u001b[0m\u001b[1;33m*\u001b[0m\u001b[0myf\u001b[0m\u001b[1;33m*\u001b[0m\u001b[0myB\u001b[0m\u001b[1;33m*\u001b[0m\u001b[1;33m(\u001b[0m\u001b[0mc2\u001b[0m\u001b[1;33m-\u001b[0m\u001b[0mc3\u001b[0m\u001b[1;33m/\u001b[0m\u001b[0mnp\u001b[0m\u001b[1;33m.\u001b[0m\u001b[0msqrt\u001b[0m\u001b[1;33m(\u001b[0m\u001b[0mem0\u001b[0m\u001b[1;33m)\u001b[0m\u001b[1;33m)\u001b[0m\u001b[1;33m)\u001b[0m\u001b[1;33m\u001b[0m\u001b[0m\n\u001b[0m\u001b[0;32m     23\u001b[0m     \u001b[1;32mprint\u001b[0m \u001b[0mRu2Hm0\u001b[0m\u001b[1;33m\u001b[0m\u001b[0m\n\u001b[0;32m     24\u001b[0m     \u001b[1;32mreturn\u001b[0m \u001b[0mRu2\u001b[0m\u001b[1;33m\u001b[0m\u001b[0m\n",
      "\u001b[1;32m/home/csherwood/miniconda/envs/ioos/lib/python2.7/site-packages/numpy/core/fromnumeric.pyc\u001b[0m in \u001b[0;36mamax\u001b[1;34m(a, axis, out, keepdims)\u001b[0m\n\u001b[0;32m   2254\u001b[0m                                   out=out, keepdims=keepdims)\n\u001b[0;32m   2255\u001b[0m         \u001b[1;31m# NOTE: Dropping the keepdims parameter\u001b[0m\u001b[1;33m\u001b[0m\u001b[1;33m\u001b[0m\u001b[0m\n\u001b[1;32m-> 2256\u001b[1;33m         \u001b[1;32mreturn\u001b[0m \u001b[0mamax\u001b[0m\u001b[1;33m(\u001b[0m\u001b[0maxis\u001b[0m\u001b[1;33m=\u001b[0m\u001b[0maxis\u001b[0m\u001b[1;33m,\u001b[0m \u001b[0mout\u001b[0m\u001b[1;33m=\u001b[0m\u001b[0mout\u001b[0m\u001b[1;33m)\u001b[0m\u001b[1;33m\u001b[0m\u001b[0m\n\u001b[0m\u001b[0;32m   2257\u001b[0m     \u001b[1;32melse\u001b[0m\u001b[1;33m:\u001b[0m\u001b[1;33m\u001b[0m\u001b[0m\n\u001b[0;32m   2258\u001b[0m         return _methods._amax(a, axis=axis,\n",
      "\u001b[1;32m/home/csherwood/miniconda/envs/ioos/lib/python2.7/site-packages/numpy/core/_methods.pyc\u001b[0m in \u001b[0;36m_amax\u001b[1;34m(a, axis, out, keepdims)\u001b[0m\n\u001b[0;32m     24\u001b[0m \u001b[1;31m# small reductions\u001b[0m\u001b[1;33m\u001b[0m\u001b[1;33m\u001b[0m\u001b[0m\n\u001b[0;32m     25\u001b[0m \u001b[1;32mdef\u001b[0m \u001b[0m_amax\u001b[0m\u001b[1;33m(\u001b[0m\u001b[0ma\u001b[0m\u001b[1;33m,\u001b[0m \u001b[0maxis\u001b[0m\u001b[1;33m=\u001b[0m\u001b[0mNone\u001b[0m\u001b[1;33m,\u001b[0m \u001b[0mout\u001b[0m\u001b[1;33m=\u001b[0m\u001b[0mNone\u001b[0m\u001b[1;33m,\u001b[0m \u001b[0mkeepdims\u001b[0m\u001b[1;33m=\u001b[0m\u001b[0mFalse\u001b[0m\u001b[1;33m)\u001b[0m\u001b[1;33m:\u001b[0m\u001b[1;33m\u001b[0m\u001b[0m\n\u001b[1;32m---> 26\u001b[1;33m     \u001b[1;32mreturn\u001b[0m \u001b[0mumr_maximum\u001b[0m\u001b[1;33m(\u001b[0m\u001b[0ma\u001b[0m\u001b[1;33m,\u001b[0m \u001b[0maxis\u001b[0m\u001b[1;33m,\u001b[0m \u001b[0mNone\u001b[0m\u001b[1;33m,\u001b[0m \u001b[0mout\u001b[0m\u001b[1;33m,\u001b[0m \u001b[0mkeepdims\u001b[0m\u001b[1;33m)\u001b[0m\u001b[1;33m\u001b[0m\u001b[0m\n\u001b[0m\u001b[0;32m     27\u001b[0m \u001b[1;33m\u001b[0m\u001b[0m\n\u001b[0;32m     28\u001b[0m \u001b[1;32mdef\u001b[0m \u001b[0m_amin\u001b[0m\u001b[1;33m(\u001b[0m\u001b[0ma\u001b[0m\u001b[1;33m,\u001b[0m \u001b[0maxis\u001b[0m\u001b[1;33m=\u001b[0m\u001b[0mNone\u001b[0m\u001b[1;33m,\u001b[0m \u001b[0mout\u001b[0m\u001b[1;33m=\u001b[0m\u001b[0mNone\u001b[0m\u001b[1;33m,\u001b[0m \u001b[0mkeepdims\u001b[0m\u001b[1;33m=\u001b[0m\u001b[0mFalse\u001b[0m\u001b[1;33m)\u001b[0m\u001b[1;33m:\u001b[0m\u001b[1;33m\u001b[0m\u001b[0m\n",
      "\u001b[1;31mValueError\u001b[0m: 'axis' entry is out of bounds"
     ]
    }
   ],
   "source": [
    "import numpy as np\n",
    "\n",
    "def q_overtop_EOT():\n",
    "    \"\"\"Principal wave overtopping formula (4.1)\"\"\"\n",
    "    g=9.86\n",
    "    a=1.\n",
    "    b=1.\n",
    "    Rc=1.\n",
    "    Hm0 = 1.\n",
    "    qND=np.sqrt(g*Hm0**3)   # dimensionless  discharge\n",
    "    RcHm0 = Rc/Hm0          # relative freeboard\n",
    "    q = qND*a*np.exp(-b*RcHm0)\n",
    "    return q\n",
    "\n",
    "def runup_EOT(Hm0=1.,Tm0=8.,tanalpha=.2,yb=1.,yf=1.,yB=1.):\n",
    "    g = 9.86\n",
    "    c1 = 1.65\n",
    "    c2 = 4.\n",
    "    c3 = 1.5\n",
    "    L0 = g*Tm0**2./(2*np.pi)\n",
    "    em0 = tanalpha/np.sqrt(Hm0/L0)\n",
    "    Ru2Hm0 = np.max(c1*yb*yf*yB*em0,yb*yf*yB*(c2-c3/np.sqrt(em0)))\n",
    "    print Ru2Hm0\n",
    "    return Ru2\n",
    "\n",
    "\n",
    "print q_overtop_EOT()\n",
    "print runup_EOT()"
   ]
  },
  {
   "cell_type": "code",
   "execution_count": null,
   "metadata": {
    "collapsed": true
   },
   "outputs": [],
   "source": []
  }
 ],
 "metadata": {
  "kernelspec": {
   "display_name": "Python 2",
   "language": "python",
   "name": "python2"
  },
  "language_info": {
   "codemirror_mode": {
    "name": "ipython",
    "version": 2
   },
   "file_extension": ".py",
   "mimetype": "text/x-python",
   "name": "python",
   "nbconvert_exporter": "python",
   "pygments_lexer": "ipython2",
   "version": "2.7.11"
  }
 },
 "nbformat": 4,
 "nbformat_minor": 0
}
