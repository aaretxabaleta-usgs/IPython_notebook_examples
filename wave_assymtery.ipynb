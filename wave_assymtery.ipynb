{
 "cells": [
  {
   "cell_type": "markdown",
   "metadata": {},
   "source": [
    "Start with wave statistics Hs, Td, Dir, h\n",
    "Also need currents\n"
   ]
  },
  {
   "cell_type": "code",
   "execution_count": 17,
   "metadata": {
    "collapsed": false
   },
   "outputs": [],
   "source": [
    "import numpy as np\n",
    "import matplotlib.pyplot as plt\n",
    "%matplotlib inline\n",
    "pi = np.pi\n",
    "sin = np.sin\n",
    "cos = np.cos\n",
    "sqrt = np.sqrt\n",
    "tanh = np.tanh\n",
    "arcsin = np.arcsin\n",
    "arccos = np.arccos\n",
    "exp = np.exp\n",
    "log = np.log\n",
    "plot = plt.plot"
   ]
  },
  {
   "cell_type": "code",
   "execution_count": 11,
   "metadata": {
    "collapsed": false
   },
   "outputs": [
    {
     "name": "stdout",
     "output_type": "stream",
     "text": [
      "5.71333705394 1.0598055795\n",
      "0.361367123907 0.222319865306 2.78022552968\n",
      "0.222319865306\n"
     ]
    },
    {
     "data": {
      "text/plain": [
       "<matplotlib.text.Text at 0xa7c5668>"
      ]
     },
     "execution_count": 11,
     "metadata": {},
     "output_type": "execute_result"
    },
    {
     "data": {
      "image/png": "[encoded data removed]",
      "text/plain": [
       "<matplotlib.figure.Figure at 0xa644a90>"
      ]
     },
     "metadata": {},
     "output_type": "display_data"
    }
   ],
   "source": [
    "# Check to see the Abreu time series works\n",
    "# select r and phi to match curves in Figs 1 and 2\n",
    "r = .8\n",
    "phi = -pi/4.\n",
    "Uw = 1.\n",
    "T = 5.\n",
    "n = 50\n",
    "w = 2.*pi/T\n",
    "wt = np.linspace( 0., 2.*pi, n) # phase\n",
    "f = sqrt( 1. - r**2 )\n",
    "numer = sin(wt) + ( r*sin(phi)/(1.+sqrt(1.-r**2)) )\n",
    "denom = (1.-r*cos(wt+phi))\n",
    "ut = Uw*f*numer/denom\n",
    "numer2 = cos(wt)-r*cos(phi)-r**2/(1.+sqrt(1.-r**2))*sin(phi)*sin(wt+phi)\n",
    "at = Uw*w*f*numer2/denom**2\n",
    "\n",
    "# alternative formulation Eqns 16a,b in Malarkey & Davies\n",
    "phi = -phi #\n",
    "P = sqrt(1.-r*r) # same as f\n",
    "b = r/(1.+P)\n",
    "fbt = 1.-b*b\n",
    "numer = sin(wt)-b*sin(phi)\n",
    "denom = (1.+b*b-2.*b*cos(wt-phi))\n",
    "utm = Uw*fbt*numer/denom\n",
    "numer2 = (1.+b*b)*cos(wt)-2.*b*cos(phi)+2.*b*b*sin(phi)*sin(wt-phi)\n",
    "atm = Uw*w*fbt*numer2/denom**2\n",
    "\n",
    "# Appendix E of Malarkey * Davies\n",
    "# Phase of umax, and umin\n",
    "c = b*sin(phi)\n",
    "tmm = arcsin((4.*c*(b*b-c*c)-(1.-b*b)*(1.+b*b-2.*c*c))/((1.+b*b)**2-4.*c*c))\n",
    "tmp = arcsin((4.*c*(b*b-c*c)+(1.-b*b)*(1.+b*b-2.*c*c))/((1.+b*b)**2-4.*c*c))\n",
    "if(tmm<0.):\n",
    "    tmm = tmm+2.*pi\n",
    "if(tmp<0.):\n",
    "    tmp = tmp+2*pi\n",
    "print tmm, tmp\n",
    "umax = 1+c\n",
    "umin = umax-2\n",
    "# zero upcrossing\n",
    "tz = arcsin(b*sin(phi)) # = arcsin(c)\n",
    "tzd = 2.*arccos(c)+tz\n",
    "# sigma Eqn 19\n",
    "sig1 = arcsin( (4.*c*(b*b-c*c)+(1.-b*b)*(1.+b*b-2.*c*c))/((1.+b*b)**2-4.*c*c) )\n",
    "if( phi <= 0.5*pi ):\n",
    "    sig = (1./pi)*(sig1-tz)\n",
    "else :\n",
    "    sig = (1./pi)*(pi-sig1-tz)\n",
    "print tz, sig, tzd\n",
    "print (tmp-tz)/pi # sigma from Eqn 5\n",
    "\n",
    "plot(wt/(2.*pi),ut/Uw)\n",
    "plot(wt/(2.*pi),at/(Uw*w))\n",
    "plot(wt/(2.*pi),utm/Uw,'--')\n",
    "plot(wt/(2.*pi),atm/(Uw*w),'--')\n",
    "plot(tmm/(2.*pi),umin,'or')\n",
    "plot(tmp/(2.*pi),umax,'ob')\n",
    "plot(tz/(2.*pi),0,'ok')\n",
    "plot(tzd/(2.*pi),0,'ok')\n",
    "plt.xlabel('t/T')\n",
    "plt.ylabel('u/Uw, a/(Uw $\\omega$)')\n"
   ]
  },
  {
   "cell_type": "code",
   "execution_count": 20,
   "metadata": {
    "collapsed": false
   },
   "outputs": [],
   "source": [
    "def ursell( aw, k, h ):\n",
    "    \"\"\"\n",
    "    Calculate Ursell number\n",
    "    Reussink et al. Eqn 6.\n",
    "    \"\"\"\n",
    "    return (3./4.)*aw*k/(k*h)**3.\n",
    "\n",
    "def qkhfs( w, h ):\n",
    "    \"\"\"\n",
    "    Quick iterative calculation of kh in gravity-wave dispersion relationship\n",
    "    kh = qkhfs(w, h )\n",
    "    \n",
    "    Input\n",
    "        w - angular wave frequency = 2*pi/T where T = wave period [1/s]\n",
    "        h - water depth [m]\n",
    "    Returns\n",
    "        kh - wavenumber * depth [ ]\n",
    "\n",
    "    Orbital velocities from kh are accurate to 3e-12 !\n",
    "\n",
    "    RL Soulsby (2006) \\\"Simplified calculation of wave orbital velocities\\\"\n",
    "    HR Wallingford Report TR 155, February 2006\n",
    "    Eqns. 12a - 14\n",
    "    \"\"\"\n",
    "    g = 9.81\n",
    "    x = w**2.0 *h/g\n",
    "    y = sqrt(x) * (x<1.) + x *(x>=1.)\n",
    "    # is this faster than a loop?\n",
    "    t = tanh( y )\n",
    "    y = y-( (y*t -x)/(t+y*(1.0-t**2.0)))\n",
    "    t = tanh( y )\n",
    "    y = y-( (y*t -x)/(t+y*(1.0-t**2.0)))\n",
    "    t = tanh( y )\n",
    "    y = y-( (y*t -x)/(t+y*(1.0-t**2.0)))\n",
    "    kh = y\n",
    "    return kh\n",
    "\n",
    "def Bfit( Ur ):\n",
    "    \"\"\"\n",
    "    Ruessink et al. Eqn. 9\n",
    "    \"\"\"\n",
    "    p1 = 0.\n",
    "    p2 = 0.857\n",
    "    p3 = -0.471\n",
    "    p4 = 0.297\n",
    "    B = p1 + (p2 - p1)/(1 + exp( (p3-log(Ur))/p4 ))\n",
    "    return B\n",
    "    \n",
    "def Phifit( Ur ):\n",
    "    # Ruessink et al. eqn 10\n",
    "    dtr = pi/180.\n",
    "    p5 = 0.815\n",
    "    p6 = 0.672\n",
    "    phi = dtr*(-90.) + dtr*90. * tanh(p5/(Ur**p6))\n",
    "    return phi # reverse sign for Malarkey & Davies formula\n",
    "\n",
    "def rfromB ( B ):\n",
    "    # Solve Ruessink eqn. 11 for r\n",
    "    b = sqrt(2.)*B/(sqrt(B**2+9)) # use directly in M&D formula\n",
    "    r = 2.*b/(b**2+1.)\n",
    "    return r\n",
    "\n",
    "def abreu_ut ( Uw, r, phi, w ):\n",
    "    \"\"\"\n",
    "    Calculate u(t) and a(t) using Abreu et al. (2010) eqn. 7\n",
    "    \"\"\"\n",
    "    n = 50\n",
    "    # w = 2.*pi/T\n",
    "    wt = np.linspace( 0., 2.*pi, n) # phase\n",
    "    f = sqrt( 1. - r**2 )\n",
    "    numer = sin(wt) + ( r*sin(phi)/(1.+sqrt(1.-r**2)) )\n",
    "    denom = (1.-r*cos(wt+phi))\n",
    "    ut = Uw*f*numer/denom\n",
    "    numer2 = cos(wt)-r*cos(phi)-r**2/(1.+sqrt(1.-r**2))*sin(phi)*sin(wt+phi)\n",
    "    at = Uw*w*f*numer2/denom**2\n",
    "    return wt, ut, at"
   ]
  },
  {
   "cell_type": "code",
   "execution_count": 21,
   "metadata": {
    "collapsed": false
   },
   "outputs": [
    {
     "name": "stdout",
     "output_type": "stream",
     "text": [
      "Hs, T, h:  1.0 10.0 4.0\n",
      "kh, k, Ur:  0.412300530703 0.103075132676 0.551497424691\n",
      "B, Phi:  0.340244350447 -0.25385201766\n",
      "Su, Au: 0.329340278194 -0.0854470547775\n",
      "r, phi:  0.310846789792 -1.31694430914\n"
     ]
    },
    {
     "data": {
      "text/plain": [
       "<matplotlib.text.Text at 0xa6a07f0>"
      ]
     },
     "execution_count": 21,
     "metadata": {},
     "output_type": "execute_result"
    },
    {
     "data": {
      "image/png": "[encoded data removed]",
      "text/plain": [
       "<matplotlib.figure.Figure at 0xa706ef0>"
      ]
     },
     "metadata": {},
     "output_type": "display_data"
    }
   ],
   "source": [
    "# Input is Hs, T, h\n",
    "Hs = 1. \n",
    "T = 10.\n",
    "h = 4.\n",
    "\n",
    "w = 2*pi/T\n",
    "aw = 0.5*Hs\n",
    "kh = qkhfs( w, h )\n",
    "k = kh/h\n",
    "Ur = ursell( aw, k, h) \n",
    "B = Bfit( Ur )\n",
    "Phi = Phifit( Ur )\n",
    "r = rfromB( B )\n",
    "phi = -Phi-pi/2.\n",
    "Su = B*cos(Phi)\n",
    "Au = B*sin(Phi)\n",
    "print \"Hs, T, h: \",Hs, T, h\n",
    "print \"kh, k, Ur: \",kh, k, Ur\n",
    "print \"B, Phi: \",B, Phi\n",
    "print \"Su, Au:\",Su,Au\n",
    "print \"r, phi: \",r, phi\n",
    "wt,ut,at = abreu_ut( Uw, r, phi, w )\n",
    "plot(wt/(2.*pi),ut/Uw)\n",
    "plot(wt/(2.*pi),at/(Uw*w))\n",
    "plt.xlabel('t/T')\n",
    "plt.ylabel('u/Uw, a/(Uw $\\omega$)')"
   ]
  },
  {
   "cell_type": "code",
   "execution_count": 42,
   "metadata": {
    "collapsed": false
   },
   "outputs": [
    {
     "data": {
      "text/plain": [
       "<matplotlib.text.Text at 0xbf629e8>"
      ]
     },
     "execution_count": 42,
     "metadata": {},
     "output_type": "execute_result"
    },
    {
     "data": {
      "image/png": "[encoded data removed]",
      "text/plain": [
       "<matplotlib.figure.Figure at 0xbd0d978>"
      ]
     },
     "metadata": {},
     "output_type": "display_data"
    }
   ],
   "source": [
    "# Check to see the Abreu time series works\n",
    "# select r and phi to match curves in Figs 1 and 2\n",
    "r = .75\n",
    "phi = -pi/4.\n",
    "Uw = 1.\n",
    "T = 5.\n",
    "n = 50\n",
    "w = 2.*pi/T\n",
    "wt = linspace( 0., 2.*pi, n) # phase\n",
    "f = sqrt( 1. - r**2 )\n",
    "numer = sin(wt) + ( r*sin(phi)/(1.+sqrt(1.-r**2)) )\n",
    "denom = (1.-r*cos(wt+phi))\n",
    "ut = Uw*f*numer/denom\n",
    "numer2 = cos(wt)-r*cos(phi)-r**2/(1.+sqrt(1.-r**2))*sin(phi)*sin(wt+phi)\n",
    "at = Uw*w*f*numer2/denom**2\n",
    "\n",
    "plot(wt/(2.*pi),ut/Uw)\n",
    "plot(wt/(2.*pi),at/(Uw*w))\n",
    "plt.xlabel('t/T')\n",
    "plt.ylabel('u/Uw, a/(Uw $\\omega$)')"
   ]
  }
 ],
 "metadata": {
  "kernelspec": {
   "display_name": "Python 2",
   "language": "python",
   "name": "python2"
  },
  "language_info": {
   "codemirror_mode": {
    "name": "ipython",
    "version": 2
   },
   "file_extension": ".py",
   "mimetype": "text/x-python",
   "name": "python",
   "nbconvert_exporter": "python",
   "pygments_lexer": "ipython2",
   "version": "2.7.8"
  }
 },
 "nbformat": 4,
 "nbformat_minor": 0
}
