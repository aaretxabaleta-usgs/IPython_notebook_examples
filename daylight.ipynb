{
 "metadata": {
  "name": "daylight.ipynb"
 },
 "nbformat": 3,
 "nbformat_minor": 0,
 "worksheets": [
  {
   "cells": [
    {
     "cell_type": "code",
     "collapsed": false,
     "input": [
      "import ephem\n",
      "\n",
      "def dayfrac_func( year_day, UTCcor = 0. ):\n",
      "    # Kludge alert: year day is assumed to be in 2014, with 0.5 = noon on 1-Jan\n",
      "    # Location of PI LTER is hardwired\n",
      "    # Information about observation location\n",
      "    pilter = ephem.Observer()\n",
      "    pilter.lat = '42.7223'\n",
      "    pilter.lon =  '-70.8403'\n",
      "    pilter.elev = 2\n",
      "    # To get U.S. Naval Astronomical Almanac values, use these settings (according to \n",
      "    # http://stackoverflow.com/questions/2637293/calculating-dawn-and-sunset-times-using-pyephem )\n",
      "    pilter.pressure = 0\n",
      "    pilter.horizon = '-0:34'\n",
      "    \n",
      "    dayfrac = np.zeros_like(year_day)\n",
      "    for i in range(size(year_day)):\n",
      "        # the 5./24. term converts year_day to UTC\n",
      "        pilter.date = ephem.Date('2014/01/01 00:00')+np.floor(year_day[i])+UTCcor\n",
      "\n",
      "        #sunrise=pilter.previous_rising(ephem.Sun()) #Sunrise\n",
      "        sunrise=pilter.next_rising(ephem.Sun())      #Sunrise\n",
      "        #noon   =pilter.next_transit(ephem.Sun(), start=sunrise) #Solar noon\n",
      "        sunset =pilter.next_setting(ephem.Sun()) #Sunset\n",
      "        daylight=sunset-sunrise\n",
      "\n",
      "        #print sunrise\n",
      "        #print noon\n",
      "        #print sunset\n",
      "        #print daylight*24.\n",
      "        dayfrac[i]=daylight\n",
      "        \n",
      "    return dayfrac\n"
     ],
     "language": "python",
     "metadata": {},
     "outputs": [],
     "prompt_number": 1
    },
    {
     "cell_type": "code",
     "collapsed": false,
     "input": [
      "dt = datetime.datetime.strptime('2014-07-05 12:00:00.0',\"%Y-%m-%d %H:%M:%S.%f\")\n",
      "ds = datetime.datetime.strptime('2014-01-01 00:00:00','%Y-%m-%d %H:%M:%S')\n",
      "#year_day = np.array( [(dt-ds).total_seconds()/(24.*3600.)])\n",
      "\n",
      "year_day = np.arange(0.0,365.001,4./24)\n",
      "#year_day = np.array([180., 180.4, 180.5, 180.6])\n",
      "dfr = dayfrac_func( year_day, 5./24. )\n",
      "\n",
      "day_of_year =np.floor(year_day)+1.\n",
      "#hour = year_day%1 * 24.\n",
      "hour = 17. # approx. local noon\n",
      "d2r = pi/180.\n",
      "latr = d2r*42.7223\n",
      "lonr = d2r*(-70.8403)\n",
      "y = (2.*pi/365.)*(day_of_year - 1.) + (hour-12.)/24.\n",
      "eqtime = 229.18*(0.000075+0.001868*cos(y)-0.032077*sin(y)-0.014615*cos(2.*y)-0.040849*sin(2.*y))\n",
      "print \"eqtime: \",eqtime\n",
      "declin = 0.006918-0.399912*cos(y)+0.070257*sin(y)-0.006758*cos(2.*y)+0.000907*sin(2.*y)-0.002697*cos(3.*y)+0.00148*sin(3.*y)\n",
      "ha = arccos (cos(d2r*90.833) /(cos(latr)*cos(declin)) - tan(latr)*tan(declin))\n",
      "sunrise = 720. + 4.*(lonr-ha)/d2r - eqtime\n",
      "sunset =  720. + 4.*(lonr+ha)/d2r - eqtime\n",
      "snoon = 720.+4.*lonr/d2r - eqtime\n",
      "\"\"\"\n",
      "dsunrise = ds+datetime.timedelta( float(year_day), float(sunrise)*60. )\n",
      "dsunset = ds+datetime.timedelta( float(year_day), float(sunset)*60. )\n",
      "dnoon = ds+datetime.timedelta( float(year_day), float(snoon)*60. )\n",
      "print dsunrise.date(), dsunrise.time()\n",
      "print dnoon.date(), dnoon.time()\n",
      "print dsunset.date(), dsunset.time()\n",
      "\n",
      "print year_day, day_of_year, hour\n",
      "print sunrise/60., snoon/60., sunset/60.\n",
      "\"\"\"\n",
      "dfr2 = (sunset-sunrise)/(24.*60.)"
     ],
     "language": "python",
     "metadata": {},
     "outputs": [
      {
       "output_type": "stream",
       "stream": "stdout",
       "text": [
        "eqtime:  [-7.93619038 -7.93619038 -7.93619038 ..., -7.55862082 -7.55862082\n",
        " -7.93619038]\n"
       ]
      }
     ],
     "prompt_number": 3
    },
    {
     "cell_type": "code",
     "collapsed": false,
     "input": [
      "def rise_set( yd, latd, lond, tz ):\n",
      "    \"\"\"\n",
      "    Calculate sunrise and sunset\n",
      "    \n",
      "    Input:\n",
      "       yd - np.array of time in year days, defined with noon on 1 Jan = 0.5\n",
      "            (converted to doy, which is 1 all day on 1 Jan)\n",
      "       latd - Latitude in degrees\n",
      "       lond - Longitude in degrees, positive east\n",
      "       tz - Time zone shift in hours. Local = UT + tz\n",
      "            (EST = -5)\n",
      "    \n",
      "    Returns:\n",
      "      [sr, ss] - np.array of sunset and sunrise in year days\n",
      "    \n",
      "    Looks accurate for a couple of days in 2014 near Boston. Not extensively tested.\n",
      "    Test this at http://www.esrl.noaa.gov/gmd/grad/solcalc/\n",
      "    \n",
      "    Based on http://williams.best.vwh.net/sunrise_sunset_algorithm.htm\n",
      "    And modifided from Javascript at https://gist.github.com/Tafkas/4742250\n",
      "    \"\"\"\n",
      "    sr = np.zeros_like( yd )\n",
      "    ss = np.zeros_like( yd )\n",
      "    doy = floor(yd)+1.\n",
      "    d2r = pi/180.\n",
      "    lnHour = lond/15.\n",
      "    zenith = 90.83333333333333\n",
      "    for i in range(len(yd)):\n",
      "        t = doy[i] + (np.array([6., 18.])-lnHour)/24.\n",
      "        # calculate the Sun's mean anomaly\n",
      "        M = (0.9856 * t) - 3.289 \n",
      "        # calculate the Sun's true longitude\n",
      "        L = M + (1.916 * sin(M * d2r)) + (0.020 * sin(2. * M * d2r)) + 282.634\n",
      "        L[L>360.]=L[L>360.]-360.\n",
      "        L[L<0.]  =L[L<0.]+360.\n",
      "        # calculate the Sun's right ascension\n",
      "        RA = arctan(0.91764 * tan(L * d2r))/d2r\n",
      "        RA[RA>360.]=RA[RA>360.]-360.\n",
      "        RA[RA<0.]  =RA[RA<0.]+360.\n",
      "        # right ascension value needs to be in the same qua\n",
      "        Lquadrant = (floor(L / (90.))) * 90.\n",
      "        RAquadrant = (floor(RA / 90.)) * 90.\n",
      "        RA = RA + (Lquadrant - RAquadrant)\n",
      "        # right ascension value needs to be converted into hours\n",
      "        RA = RA / 15.\n",
      "        # calculate the Sun's declination\n",
      "        sinDec = 0.39782 * sin(L * d2r)\n",
      "        cosDec = cos(arcsin(sinDec))\n",
      "        # calculate the Sun's local hour angle\n",
      "        cosH = (cos(zenith * d2r) - (sinDec * sin(latr))) / (cosDec * cos(latr));\n",
      "        H = np.array([0.,0.])\n",
      "        H[0] = 360. - arccos(cosH[0])/d2r\n",
      "        H[1] = arccos(cosH[1])/d2r\n",
      "        H = H / 15.\n",
      "        # calculate local mean time of rising/setting\n",
      "        T = H + RA - (0.06571 * t) - 6.622\n",
      "        # adjust back to UTC\n",
      "        UT = T - lnHour\n",
      "        UT[UT<0.]=UT[UT<0.]+24.\n",
      "        UT[UT>24.]=UT[UT>24.]-24.\n",
      "        # add in time zone\n",
      "        ans = (doy[i]-1.)+(UT+tz)/24.\n",
      "        sr[i] = ans[0]\n",
      "        ss[i] = ans[1]\n",
      "    return sr, ss\n",
      "\n",
      "# test:\n",
      "yd = np.array([277.5])\n",
      "latd=  42.7223\n",
      "lond= -70.8403\n",
      "tz = -5.\n",
      "sr,ss=rise_set( yd, latd, lond, 0 )\n",
      "print sr, ss\n",
      "\n",
      "# now test for longer time\n",
      "year_day = np.arange(0.0,365.001,4./24)\n",
      "sr,ss = rise_set( year_day, latd, lond, tz )\n",
      "df3 = (ss-sr)"
     ],
     "language": "python",
     "metadata": {},
     "outputs": [
      {
       "output_type": "stream",
       "stream": "stdout",
       "text": [
        "[ 277.44771803] [ 277.9293044]\n"
       ]
      }
     ],
     "prompt_number": 11
    },
    {
     "cell_type": "code",
     "collapsed": false,
     "input": [
      "#print dfr\n",
      "plt.plot(year_day,dfr,label='ephem')\n",
      "plt.plot(year_day,dfr2,label='NOAA approx.')\n",
      "plt.plot(year_day,df3,label='Williams')\n",
      "plt.ylabel('Daylight (fraction of day)')\n",
      "plt.xlabel('Day of Year 2014')\n",
      "plt.legend()"
     ],
     "language": "python",
     "metadata": {},
     "outputs": [
      {
       "metadata": {},
       "output_type": "pyout",
       "prompt_number": 12,
       "text": [
        "<matplotlib.legend.Legend at 0x7f9bd68>"
       ]
      },
      {
       "metadata": {},
       "output_type": "display_data",
       "png": "[encoded data removed]",
       "text": [
        "<matplotlib.figure.Figure at 0x80766a0>"
       ]
      }
     ],
     "prompt_number": 12
    },
    {
     "cell_type": "code",
     "collapsed": false,
     "input": [
      "sin(d2r*-0.83)"
     ],
     "language": "python",
     "metadata": {},
     "outputs": []
    },
    {
     "cell_type": "code",
     "collapsed": false,
     "input": [
      "def dayfrac_scalar_func( year_day, UTCcor = 0. ):\n",
      "    # Kludge alert: year day is assumed to be in 2014, with 0.5 = noon on 1-Jan\n",
      "    # Location of PI LTER is hardwired\n",
      "    # Information about observation location\n",
      "    pilter = ephem.Observer()\n",
      "    pilter.lat = '42.7223'\n",
      "    pilter.lon =  '-70.8403'\n",
      "    pilter.elev = 2\n",
      "    # To get U.S. Naval Astronomical Almanac values, use these settings (according to \n",
      "    # http://stackoverflow.com/questions/2637293/calculating-dawn-and-sunset-times-using-pyephem )\n",
      "    pilter.pressure = 0\n",
      "    pilter.horizon = '-0:34'\n",
      "\n",
      "    # the 5./24. term converts year_day to UTC\n",
      "    pilter.date = ephem.Date('2014/01/01 00:00')+np.floor(year_day)+UTCcor\n",
      "\n",
      "    #sunrise=pilter.previous_rising(ephem.Sun()) #Sunrise\n",
      "    sunrise=pilter.next_rising(ephem.Sun())      #Sunrise\n",
      "    #noon   =pilter.next_transit(ephem.Sun(), start=sunrise) #Solar noon\n",
      "    sunset =pilter.next_setting(ephem.Sun()) #Sunset\n",
      "    dayfrac=sunset-sunrise    \n",
      "    return dayfrac\n",
      "\n",
      "f = numpy.vectorize(dayfrac_scalar_func, otypes=[numpy.float])\n",
      "df3 = f( year_day, 5./24. )\n",
      "plot(year_day,df3)"
     ],
     "language": "python",
     "metadata": {},
     "outputs": []
    }
   ],
   "metadata": {}
  }
 ]
}