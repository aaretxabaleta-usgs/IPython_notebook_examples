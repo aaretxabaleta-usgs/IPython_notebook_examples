{
 "cells": [
  {
   "cell_type": "code",
   "execution_count": null,
   "metadata": {
    "collapsed": true
   },
   "outputs": [],
   "source": [
    "# deal with scalars or 1-d arrays in a function\n",
    "import numpy as np\n",
    "\n",
    "def func( xa, ya ):\n",
    "    # naively, I thought I could do:\n",
    "    xy = np.zeros( ( len(xa), len(ya) ) )\n",
    "    for j in range(len( ya )):\n",
    "        for i in range(len( xa )):\n",
    "            # do something complicated\n",
    "            xy[i,j] = x[i]+y[j]            \n",
    "    return xy\n",
    "\n",
    "# works fine for arrays:\n",
    "x = np.array([1., 2.])\n",
    "y = np.array([2., 4.])\n",
    "xy = func(x,y)\n",
    "print xy\n",
    "# but does not work for scalar floats:\n",
    "x = 1.\n",
    "y = 3.\n",
    "xy = func(x,y)\n",
    "print xy"
   ]
  }
 ],
 "metadata": {
  "kernelspec": {
   "display_name": "Python 2",
   "language": "python",
   "name": "python2"
  },
  "language_info": {
   "codemirror_mode": {
    "name": "ipython",
    "version": 2
   },
   "file_extension": ".py",
   "mimetype": "text/x-python",
   "name": "python",
   "nbconvert_exporter": "python",
   "pygments_lexer": "ipython2",
   "version": "2.7.8"
  }
 },
 "nbformat": 4,
 "nbformat_minor": 0
}
